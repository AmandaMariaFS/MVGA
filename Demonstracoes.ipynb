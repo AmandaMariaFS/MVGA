{
 "cells": [
  {
   "cell_type": "markdown",
   "metadata": {},
   "source": [
    "# Demonstrações"
   ]
  },
  {
   "cell_type": "markdown",
   "metadata": {},
   "source": [
    "## Prove que $\\forall  \\alpha \\in \\mathbb{R}$ é valido: $\\alpha . e = e$"
   ]
  },
  {
   "cell_type": "markdown",
   "metadata": {},
   "source": [
    "$ \\alpha . (e + e) = \\alpha e$\n",
    "\n",
    "$ e = - (\\alpha e) + \\alpha e = - (\\alpha e) + \\alpha e + \\alpha e = \\alpha e$"
   ]
  },
  {
   "cell_type": "markdown",
   "metadata": {},
   "source": [
    "## Prove que $\\forall u \\in V \\to 0 . u = e$"
   ]
  },
  {
   "cell_type": "markdown",
   "metadata": {},
   "source": [
    "$ 0u = u ( 0 + 0) = 0u + 0u$\n",
    "\n",
    "$0u - (0u) = e$\n",
    "\n",
    "$0u + 0u -0u = e$\n",
    "\n",
    "$0 . u = e$"
   ]
  },
  {
   "cell_type": "markdown",
   "metadata": {},
   "source": [
    "## Prove que, se vale a igualdade $\\alpha u = e$ então ou $\\alpha = 0$ ou $u = e$"
   ]
  },
  {
   "cell_type": "markdown",
   "metadata": {},
   "source": [
    "Pela questão anterior já vimos que $0 . u = e$, logo sabemos que a igualdade é verdade nos casos em que $\\alpha = 0$. Assim, para os casos em que $\\alpha$ é diferente de 0:\n",
    "\n",
    "$ a^{-1} (\\alpha u) = e . a^{-1}$\n",
    "\n",
    "$ (a^{-1} \\alpha)u = e$\n",
    "\n",
    "$ 1 . u = e$\n",
    "\n",
    "$ u = e$"
   ]
  },
  {
   "cell_type": "markdown",
   "metadata": {},
   "source": [
    "## Prove que, para todo $\\alpha \\in \\mathbb{R} \\to (-\\alpha) . u = \\alpha (-u) = -(\\alpha u)$ "
   ]
  },
  {
   "cell_type": "markdown",
   "metadata": {},
   "source": [
    "$\\alpha u + (-\\alpha) . u = u (\\alpha - \\alpha) = 0u = e$\n",
    "\n",
    "Usando o axioma II-b e P2, por outro lado:\n",
    "\n",
    "$\\alpha u + (-\\alpha u) = e$\n",
    "\n",
    "$\\alpha u + (-\\alpha)u = \\alpha u + (- \\alpha u)$\n",
    "\n",
    "Logo, $(-\\alpha) u = -(\\alpha u)$\n",
    "\n",
    "De forma análoga:\n",
    "\n"
   ]
  },
  {
   "cell_type": "markdown",
   "metadata": {},
   "source": [
    "$\\alpha (-u) + \\alpha u = \\alpha (u + (-u)) = \\alpha e = e$ segundo P1\n",
    "\n",
    "Usando o axioma II - B e P1:\n",
    "\n",
    "$ \\alpha u - \\alpha u = e$\n",
    "\n",
    "$ \\alpha (-u) + \\alpha u = \\alpha u - (\\alpha u)$\n",
    "\n",
    "Logo, $ \\alpha (-u) = - (\\alpha u)$"
   ]
  },
  {
   "cell_type": "markdown",
   "metadata": {},
   "source": []
  }
 ],
 "metadata": {
  "language_info": {
   "name": "python"
  },
  "orig_nbformat": 4
 },
 "nbformat": 4,
 "nbformat_minor": 2
}
