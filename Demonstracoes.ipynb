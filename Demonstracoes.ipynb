{
 "cells": [
  {
   "cell_type": "markdown",
   "metadata": {},
   "source": [
    "# Demonstrações"
   ]
  },
  {
   "cell_type": "markdown",
   "metadata": {},
   "source": [
    "## Prove que $\\forall  \\alpha \\in \\mathbb{R}$ é valido: $\\alpha . e = e$"
   ]
  },
  {
   "cell_type": "markdown",
   "metadata": {},
   "source": [
    "$ \\alpha . (e + e) = \\alpha e$\n",
    "\n",
    "$ e = - (\\alpha e) + \\alpha e = - (\\alpha e) + \\alpha e + \\alpha e = \\alpha e$"
   ]
  },
  {
   "cell_type": "markdown",
   "metadata": {},
   "source": [
    "## Prove que $\\forall u \\in V \\to 0 . u = e$"
   ]
  },
  {
   "cell_type": "markdown",
   "metadata": {},
   "source": [
    "$ 0u = u ( 0 + 0) = 0u + 0u$\n",
    "\n",
    "$0u - (0u) = e$\n",
    "\n",
    "$0u + 0u -0u = e$\n",
    "\n",
    "$0 . u = e$"
   ]
  },
  {
   "cell_type": "markdown",
   "metadata": {},
   "source": [
    "## Prove que, se vale a igualdade $\\alpha u = e$ então ou $\\alpha = 0$ ou $u = e$"
   ]
  },
  {
   "cell_type": "markdown",
   "metadata": {},
   "source": [
    "Pela questão anterior já vimos que $0 . u = e$, logo sabemos que a igualdade é verdade nos casos em que $\\alpha = 0$. Assim, para os casos em que $\\alpha$ é diferente de 0:\n",
    "\n",
    "$ a^{-1} (\\alpha u) = e . a^{-1}$\n",
    "\n",
    "$ (a^{-1} \\alpha)u = e$\n",
    "\n",
    "$ 1 . u = e$\n",
    "\n",
    "$ u = e$"
   ]
  },
  {
   "cell_type": "markdown",
   "metadata": {},
   "source": [
    "## Prove que, para todo $\\alpha \\in \\mathbb{R} \\to (-\\alpha) . u = \\alpha (-u) = -(\\alpha u)$ "
   ]
  },
  {
   "cell_type": "markdown",
   "metadata": {},
   "source": [
    "$\\alpha u + (-\\alpha) . u = u (\\alpha - \\alpha) = 0u = e$\n",
    "\n",
    "Usando o axioma II-b e P2, por outro lado:\n",
    "\n",
    "$\\alpha u + (-\\alpha u) = e$\n",
    "\n",
    "$\\alpha u + (-\\alpha)u = \\alpha u + (- \\alpha u)$\n",
    "\n",
    "Logo, $(-\\alpha) u = -(\\alpha u)$\n",
    "\n",
    "De forma análoga:\n",
    "\n"
   ]
  },
  {
   "cell_type": "markdown",
   "metadata": {},
   "source": [
    "$\\alpha (-u) + \\alpha u = \\alpha (u + (-u)) = \\alpha e = e$ segundo P1\n",
    "\n",
    "Usando o axioma II - B e P1:\n",
    "\n",
    "$ \\alpha u - \\alpha u = e$\n",
    "\n",
    "$ \\alpha (-u) + \\alpha u = \\alpha u - (\\alpha u)$\n",
    "\n",
    "Logo, $ \\alpha (-u) = - (\\alpha u)$"
   ]
  },
  {
   "cell_type": "markdown",
   "metadata": {},
   "source": [
    "## Prove que, quaisquer que sejam $ \\alpha , \\beta \\in \\mathbb{R}$ e $u \\in V, (\\alpha - \\beta) u = \\alpha u - \\alpha v$"
   ]
  },
  {
   "cell_type": "markdown",
   "metadata": {},
   "source": [
    "$(\\alpha - \\beta) u = (\\alpha + (- \\beta))u = \\alpha u + (- \\beta)u = \\alpha u + (-(\\beta u)) = \\alpha u - \\beta u$"
   ]
  },
  {
   "cell_type": "markdown",
   "metadata": {},
   "source": [
    "## Prove que, Quaisquer que sejam $ \\alpha \\in \\mathbb{R}, u$ e $v \\in V, \\alpha(u - v) = \\alpha u - \\alpha v$ "
   ]
  },
  {
   "cell_type": "markdown",
   "metadata": {},
   "source": [
    "$ \\alpha ( u - v) = \\alpha (u + (-v)) = \\alpha u + \\alpha (-v) = \\alpha u + (-\\alpha v) = \\alpha u - \\alpha v$"
   ]
  },
  {
   "cell_type": "markdown",
   "metadata": {},
   "source": [
    "## Prove que, se $U$ e $V$ são sub-espaços vetoriais de $W$, então $U$ + $V$ também é um sub-espaço vetorial de $W$"
   ]
  },
  {
   "cell_type": "markdown",
   "metadata": {},
   "source": [
    "$$ 1. Como\\ e = e + e, e \\in U, então\\ e \\in U + V$$\n",
    "\n",
    "$$ 2. Sejam\\ w_1 = u_1 + v_1\\ e\\ w_2 = u_2 + v_2\\ elementos\\ de\\ U + V, onde\\ estamos\\ supondo\\ u_1, u_2 \\in U\\ e v_1, v_2 \\in V. Então:$$\n",
    "\n",
    "$$ w_1 + w_2 = (u_1 + v_1) + (u_2 + v_2) = (u_1 + u_2) + (v_1 + v_2)$$\n",
    "\n",
    "$$ Como\\ u_1 + u_2\\ e\\ v_1 + v_2\\ pertencem\\ a\\ U\\ e\\ V, respectivamente, então\\ w_1 + w_2 \\in U + V$$\n",
    "\n",
    "$$ 3. Dados\\ u \\in U\\ e\\ v \\in V, temos\\ que\\ \\alpha u \\in U, \\alpha v \\in V. Logo\\ \\alpha u \\in U + V$$"
   ]
  },
  {
   "cell_type": "markdown",
   "metadata": {},
   "source": [
    "## Prove que, sejam $U$ e $V$ sub-espaços vetoriais de um espaço vetorial $W$. Então $W = U \\oplus V$ se, e somente se, cada vetor $w \\in W$ admite uma única decomposição $w = u + v$, com $u \\in U$ e $v \\in V$"
   ]
  },
  {
   "cell_type": "markdown",
   "metadata": {},
   "source": [
    "**Na ida:**\n",
    "\n",
    "$$Por\\ hipótese\\ a\\ decomposição\\ existe.\\ Suponhamos\\ w = u + v = u_1 + v_1\\ (u, u_1 \\in U, v, v_1 \\in V).$$\n",
    "\n",
    "$$ Daí\\ u - u_1 = v_1 - v.\\ Como\\ v_1 - v \\in V\\ (pois\\ ambos\\ os\\ termos\\ estão\\ em\\ V), então\\ u - u_1 \\in U \\cap V = {e}.$$\n",
    "\n",
    "$$ Logo\\ u - u_1 = e\\ e\\ então u = u_1.\\ Levando\\ em\\ conta\\ isto\\ conclui-se\\ que\\ v_1 - v = e\\ e\\ portanto\\ que\\ v_1 = v $$\n",
    "\n",
    "**na volta:**\n",
    "\n",
    "$$ Suponhamos\\ que\\ w \\in U \\cap V. Tomando\\ então\\ u \\in U\\ e\\ v \\in V, teremos:$$\n",
    "\n",
    "$$u + v = (u + w) + (v - w)$$\n",
    "\n",
    "Devido à unicidade que a hipótese menciona podemos afirmar que:\n",
    "\n",
    "$$ u = u + w\\ e\\ v = v - w$$"
   ]
  },
  {
   "cell_type": "markdown",
   "metadata": {},
   "source": [
    "## Prove que $S \\subset [S]$"
   ]
  },
  {
   "cell_type": "markdown",
   "metadata": {},
   "source": [
    "$$ S = \\{u_1, ..., u_n\\}$$\n",
    "\n",
    "$Seja\\ u_i \\in S$, considere a seguinte combinação linear:\n",
    "\n",
    "$$ u_i = 0 . u_i + ... + 0 . u_n \\in [S]$$"
   ]
  },
  {
   "cell_type": "markdown",
   "metadata": {},
   "source": [
    "## Prove que $S_1 \\subset S_2 \\subset V \\Longrightarrow [S_1] \\subset [S_2]$"
   ]
  },
  {
   "cell_type": "markdown",
   "metadata": {},
   "source": [
    "$$ S_1 = \\{u_1, ..., u_n\\}, S_2 = \\{u_1, ..., u_n, u_{n+1}, ..., u_t\\}$$\n",
    "\n",
    "$$w \\in S_1, w = {\\alpha}_1 u_1 + ... + {\\alpha}_n u_n = {\\alpha}_1 u_1 + ... + {\\alpha}_n u_n + 0. u_{n+1} + ... + 0. u_t \\in [S_2]$$"
   ]
  },
  {
   "cell_type": "markdown",
   "metadata": {},
   "source": [
    "## Prove que se $S_1$ e $S_2$ são subconjuntos de $V$, então $ [S_1 \\cup S_2] = [S_1] + [S_2]$"
   ]
  },
  {
   "cell_type": "markdown",
   "metadata": {},
   "source": [
    "$$ S_1 = \\{u_1, ..., u_n\\}, S_2 = \\{v_1, ..., v_n\\}$$\n",
    "\n",
    "$$ S_1 \\cup S_2 = \\{u_1, ..., u_n, v_1, ..., v_n\\}$$\n",
    "\n",
    "$$[S_1 \\cup S_2], w = \\alpha u_1 + ... + \\alpha u_n + \\beta v_1 + ... + \\beta v_n \\in [S_1] + [S_2]$$\n"
   ]
  },
  {
   "cell_type": "markdown",
   "metadata": {},
   "source": [
    "## Prove que se um conjunto finito $L \\subset V$ contém o vetor nulo, então esse conjunto é $LD$"
   ]
  },
  {
   "cell_type": "markdown",
   "metadata": {},
   "source": [
    "Seja $L = \\{e, u_1, ..., u_n\\}$. Então, evidentemente:\n",
    "\n",
    "$$ \\alpha e + 0. u_1 + ... + 0. u_n = e$$\n",
    "\n",
    "Para qualquer $\\alpha \\in \\mathbb{R}$"
   ]
  },
  {
   "cell_type": "markdown",
   "metadata": {},
   "source": [
    "## Prove que, se $L = \\{u\\}$, com $ u \\not= e$, então $L$ é $LI$"
   ]
  },
  {
   "cell_type": "markdown",
   "metadata": {},
   "source": [
    "Suponhamos que $\\alpha u = e$, com $u \\not= e$. Assim, $\\alpha = e$ como já vimos pelas propriedades de um espaço vetorial"
   ]
  },
  {
   "cell_type": "markdown",
   "metadata": {},
   "source": [
    "## Prove que, se $L$ é $LD$, então um de seus vetores é combinação linear dos outros"
   ]
  },
  {
   "cell_type": "markdown",
   "metadata": {},
   "source": [
    "Por hipótese existem ${\\alpha}_1, ..., {\\alpha}_n$ números reais, nem todos iguais a zero, de modo que\n",
    "\n",
    "$$ {\\alpha}_1 u_1 + ... + {\\alpha}_n u_n = e$$\n",
    "\n",
    "Suponhamos que $\\alpha_1 \\not= 0$, então existe o inverso de $\\alpha$. Multipliquemos tudo por ele:\n",
    "\n",
    "$$ u_1 + ({\\alpha}_1^{-1} \\alpha_2)u_1 + ... + ({\\alpha}_1^{-1} \\alpha_n) u_n = e$$\n",
    "\n",
    "Daí\n",
    "\n",
    "$$ u_1 = ({\\alpha}_1^{-1} \\alpha_2)u_1 + ... + ({\\alpha}_1^{-1} \\alpha_n) u_n$$\n",
    "\n",
    "O que mostra que $u_1$ é combinação linear de $u_2, ..., u_n$"
   ]
  },
  {
   "cell_type": "markdown",
   "metadata": {},
   "source": [
    "## Prove que, se $L_1$ e $L_2$ são subconjuntos finitos e não vazios de $V$, se $L_1 \\subset L_2$ e $L_1$ é $LD$, então $L_2$ também é $LD$"
   ]
  },
  {
   "cell_type": "markdown",
   "metadata": {},
   "source": [
    "Consideremos $L_1 = \\{u_1, ..., u_n\\}$ e $L_2 = \\{u_1, ..., u_n, ..., u_t\\}$. COmo $L_1$ é $LD$, temos que, sem que todos os números reais sejam zero:\n",
    "\n",
    "$$ \\alpha_1 u_1 + ... + \\alpha_n u_n$$\n",
    "\n",
    "Logo, temos também:\n",
    "\n",
    "$$ \\alpha_1 u_1 + ... + \\alpha_n u_n + ... + \\alpha_t u_t = e$$\n",
    "\n",
    "Como sabemos que os primeiros termos da soma possuem números diferentes de zero, então $L_2$ é $LD$"
   ]
  },
  {
   "cell_type": "markdown",
   "metadata": {},
   "source": [
    "## Prove que, se $L_1$ e $L_2$ são subconjuntos finitos e não vazios de $V$, se $L_1 \\subset L_2$ e $L_2$ é $LI$, então $L_1$ também é $LI$"
   ]
  },
  {
   "cell_type": "markdown",
   "metadata": {},
   "source": [
    "Pela demonstração anterior temos que se $L_1$ fosse $LD$, então $L_2$ também deveria ser $LD$. No entanto, como $L_2$ é $LI$, então $L_1$ tem que ser $LI$ também"
   ]
  },
  {
   "cell_type": "markdown",
   "metadata": {},
   "source": [
    "## Prove que, se $L$ é $LI$ e para um certo $u$ e $ L \\cup {u}$ é $LD$, então $u$ é combinação linear dos vetores de $L$"
   ]
  },
  {
   "cell_type": "markdown",
   "metadata": {},
   "source": [
    "$$ \\alpha_1 u_1 + ... + \\alpha_n u_n + \\alpha u = e| \\alpha \\not= e$$\n",
    "\n",
    "$$ (\\alpha^{-1} \\alpha_1) u_1 + ... + (\\alpha^{-1} \\alpha_n) u_n + u = e$$\n",
    "\n",
    "$$ u = (\\alpha^{-1} \\alpha_1) u_1 + ... + (\\alpha^{-1} \\alpha_n) u_n$$"
   ]
  },
  {
   "cell_type": "markdown",
   "metadata": {},
   "source": [
    "## Prove que todo espaço vetorial finitamente gerado adimite uma base"
   ]
  },
  {
   "cell_type": "markdown",
   "metadata": {},
   "source": [
    "Indiquemos por $V$ o espaço. Se $V = \\{e\\}$, então $\\{e\\}$ é uma base de $V$ devido às convenções a respeito desse caso\n",
    "\n"
   ]
  }
 ],
 "metadata": {
  "language_info": {
   "name": "python"
  },
  "orig_nbformat": 4
 },
 "nbformat": 4,
 "nbformat_minor": 2
}
