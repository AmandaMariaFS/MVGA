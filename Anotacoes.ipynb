{
 "cells": [
  {
   "cell_type": "markdown",
   "metadata": {},
   "source": [
    "# MVGA - Matrizes, Vetores e Geometria Analítics\n",
    "\n",
    "> Algebra linear e aplicações - Carlos A. Callioli"
   ]
  },
  {
   "cell_type": "markdown",
   "metadata": {},
   "source": [
    "## Espaços Vetoriais"
   ]
  },
  {
   "cell_type": "markdown",
   "metadata": {},
   "source": [
    "Dado um conjunto $V$, não vazio e duas operações:\n",
    "\n",
    "$ + : V + V \\to V$ (Na disciplina não vamos trabalhar multiplicação de vetores, só soma)\n",
    "\n",
    "$ \\times : \\mathbb{R} \\times V \\to V$\n",
    "\n",
    "\n",
    "($V, +, \\cdot$) é um espaço vetorial sobre $\\mathbb{R}$ quando satisfaz as propriedades:\n",
    "\n",
    "Relacionado a soma de vetores:\n",
    "\n",
    "I. a) $u + v = v + u, \\forall u, v \\in V$\n",
    "\n",
    "I. b) $u + (v + w) = (v + v) + w, \\forall u, v, w \\in V$\n",
    "\n",
    "I. c) $\\exists e \\in V | u + e = u, \\forall u \\in V$\n",
    "\n",
    "I. d) $\\forall u \\in V, \\exists -u | u + (-u) = e$ \n",
    "\n",
    "Relacionado a multiplicação de vetores por números escalares:\n",
    "\n",
    "II. a) $\\alpha \\cdot (\\beta \\cdot u) = (\\alpha \\cdot \\beta) \\cdot u, \\forall \\alpha, \\beta \\in \\mathbb{R}, \\forall v \\in V$\n",
    "\n",
    "II. b) $\\alpha(u + v) = \\alpha u + \\alpha v, \\forall \\alpha \\in \\mathbb{R}, \\forall u, v \\in V$\n",
    "\n",
    "II. c) $(\\alpha + \\beta) u = \\alpha u + \\beta u, \\forall \\alpha , \\beta \\in \\mathbb{R}, \\forall u \\in V$\n",
    "\n",
    "II. d) $1 \\cdot u = u$"
   ]
  },
  {
   "cell_type": "markdown",
   "metadata": {},
   "source": [
    "### Exemplos"
   ]
  },
  {
   "cell_type": "markdown",
   "metadata": {},
   "source": [
    "1) $\\mathbb{R}$\n",
    "2) $\\mathbb{R}^2 = \\mathbb{R} \\times \\mathbb{R} = {(x,y) | x, y \\in \\mathbb{R}}$\n",
    "\n",
    "$u = (X_u, Y_u), v = (X_v, Y_v), w = (X_w, Y_w)$\n",
    "\n",
    "Testando com a soma vetorial:\n",
    "\n",
    "1) $u+v = (X_u, Y_u) + (X_v, Y_v)$\n",
    "\n",
    "    $= (X_u + X_v, Y_u + Y_v) = (X_v + X_u, Y_v + Y_u)$\n",
    "    $= (X_v, Y_v) + (X_u, Y_u) = v + u$ \n",
    "\n",
    "\n",
    "2) $u +  (v + w) = (X_u, Y_u) + ((X_u, Y_u) + (X_w, Y_w))$\n",
    "\n",
    "    $= (X_u, Y_u) + (X_v + X_w, Y_v + Y_w)$\n",
    "\n",
    "    > $=(X_v + X_w + X_u, Y_v + Y_w + Y_u)$ -Resultado da primeira afirmação\n",
    "\n",
    "    $=(u + v) + w = ((X_u, Y_u) + (X_v, Y_v)) + (X_w, Y_w)$\n",
    "\n",
    "    $=(X_u + X_v, Y_u + Y_v) + (X_w, Y_w)$\n",
    "\n",
    "    > $=(X_u + X_v + X_w, Y_u + Y_v + Y_w)$ -O resultado deu o mesmo\n",
    "\n",
    "\n",
    "3) $e = (0,0), u + e = (X_u, Y_u) + (0,0)$\n",
    "\n",
    "    $=(X_u + 0, Y_u + 0) = (X_u, Y_u) = u$\n",
    "\n",
    "4) $\\forall u = (X_u, Y_u) seja -u = (-X_u, -Y_u)$\n",
    "\n",
    "    $u + (-u) = (X_u, Y_u) + (-X_u, -Y_u) = (X_u-X_u, Y_u - Y_u) = (0,0) = e$\n",
    "\n",
    "\n",
    "\n",
    "**Testando com a multiplicação por números escalares:**\n",
    "\n",
    "1) $\\alpha(\\beta u) = \\alpha (\\beta (X_u, Y_u)) = \\alpha (\\beta X_u, \\beta Y_u)$\n",
    "\n",
    "    $(\\alpha(\\beta X_u), \\alpha(\\beta Y_u)) = ((\\alpha \\beta) X_u, (\\alpha \\beta) Y_u)$\n",
    "\n",
    "    $=(\\alpha \\beta)(X_u, Y_u) = (\\alpha \\beta) u$\n",
    "\n",
    "2) $\\alpha(u + v) = \\alpha((X_u, Y_u) + (X_v, Y_v))$\n",
    "\n",
    "    $=\\alpha(X_u + X_v, Y_u + Y_v) = (\\alpha(X_u + X_v), \\alpha(Y_u + Y_v))$\n",
    "\n",
    "    $=(\\alpha X_u + \\alpha X_v, \\alpha Y_u + \\alpha Y_v) = (\\alpha X_u, \\alpha Y_u) + (\\alpha X_v, \\alpha Y_v) = \\alpha u + \\alpha v$\n",
    "\n",
    "3) $(\\alpha + \\beta) u = (\\alpha + \\beta) (X_u, Y_u) = ((\\alpha + \\beta) X_u, (\\alpha + \\beta) Y_u)$\n",
    "\n",
    "    $(\\alpha X_u + \\beta X_u, \\alpha Y_u + \\beta Y_u) = \\alpha(X_u, Y_u) + \\beta(X_u, Y_u) = \\alpha u + \\beta u$\n",
    "\n",
    "4) $ 1 \\cdot u = 1(X_u, Y_u) = (1 X_u, 1 Y_u) = u$\n"
   ]
  },
  {
   "cell_type": "markdown",
   "metadata": {},
   "source": []
  },
  {
   "cell_type": "markdown",
   "metadata": {},
   "source": [
    "## Propriedades de um espaço vetorial"
   ]
  },
  {
   "cell_type": "markdown",
   "metadata": {},
   "source": [
    "Seja $V$ um espaço vetorial sobre $\\mathbb{R}$. Provaremos a seguir algumas propriedades que são consequências praticamente imediatas da definição de espaço vetorial. (As demonstrações se encontram na aba demonstrações)\n",
    "\n",
    "* **P1:** Para todo $\\alpha \\in \\mathbb{R}, \\alpha e = e$\n",
    "* **P2:** Para todo $u \\in V, 0u = e$\n",
    "* **P3:** Uma igualdade de $\\alpha u = e$, com $a \\in \\mathbb{R}$ e $u \\in V$, só é possível se $\\alpha = 0$ ou $u = e$\n",
    "* **P4:** Para $\\alpha \\in \\mathbb{R}$ e todo $u \\in V$, $(- \\alpha)u = \\alpha(-u) = -(\\alpha u)$\n",
    "* **P5:** Quaisquer que sejam $ \\alpha , \\beta \\in \\mathbb{R}$ e $u \\in V, (\\alpha - \\beta) u = \\alpha u - \\alpha v$\n",
    "* **P6:** Quaisquer que sejam $ \\alpha \\in \\mathbb{R}, u$ e $v \\in V, \\alpha(u - v) = \\alpha u - \\alpha v$ \n",
    "* **P7:** Dados $\\beta, {\\alpha}_1, ... , {\\alpha}_n$ em $\\mathbb{R}$ e $u_1 , ...  , u_n$ em $V$, então:\n",
    "\n",
    "$$ \\beta (\\sum_{j = 1}^{n} {\\alpha}_j u_j) = \\sum_{j = 1}^{n} (\\beta {\\alpha}_j) u_j $$"
   ]
  },
  {
   "cell_type": "markdown",
   "metadata": {},
   "source": [
    "## Sub-Espaços Vetoriais"
   ]
  },
  {
   "cell_type": "markdown",
   "metadata": {},
   "source": [
    "Seja $V$ um espaço vetorial sobre $\\mathbb{R}$. Um sub-espaço vetorial de $V$ é um subconjunto $W \\subset V$, tal que:\n",
    "\n",
    "1. $e \\in W$\n",
    "2. $\\forall u, v \\in W, u + v \\in W$; e\n",
    "3. $\\forall \\alpha \\in \\mathbb{R}\\ e\\ \\forall u \\in W, \\alpha u \\in W$\n",
    "\n",
    "Notemos que 2. siginifica que a adição de $V$, restrita a $W$, é uma adição em $W$. O significado de 3. é que está definida uma multiplicação de $\\mathbb{R} \\times W$ em $W$. Mas será $W$, nessas condições, um espaço vetorial sobre $\\mathbb{R}$?"
   ]
  },
  {
   "cell_type": "markdown",
   "metadata": {},
   "source": [
    "**Preposição 1 -** Se $W$ é um sub-espaço vetorial de $V$, então $W$ também é um espaço vetorial sobre $\\mathbb{R}$"
   ]
  },
  {
   "cell_type": "markdown",
   "metadata": {},
   "source": [
    "### Somas de sub-espaços"
   ]
  },
  {
   "cell_type": "markdown",
   "metadata": {},
   "source": [
    "Sejam $U$ e $V$ sub-espaços vetoriais de um espaço vetorial $W$\n",
    "\n",
    "**Proposição 2 -** Se $U$ e $V$ são sub-espaços vetoriais de $W$, então $U + V$ também é um sub-espaço vetorial de $W$\n",
    "\n",
    "- Sejam $U$ e $V$ sub-espaços vetoriais de $W$ tais que $U \\cap V = {e}$. Nesse caso, diz-se que $U + V$ é **soma direta** dos sub-espaços $U$ e $V$. Notação: $U \\oplus V$\n",
    "- Se $U$ e $V$ são sub-espaços de $W$ tais que $U \\oplus V = W$ dizemos que $U$ e $V$ são **suplementares** ou que $U$ é **suplementar** de $V$ (ou $V$ é suplementar de $U$)\n",
    "\n",
    "**Poposição 3 -** Sejam $U$ e $V$ sub-espaços vetoriais de um espaço vetorial $W$. Então $W = U \\oplus V$ se, e somente se, cada vetor $w \\in W$ adimite uma única decomposição $w = u + v$, com $u \\in U\\ e\\ v \\in V$"
   ]
  },
  {
   "cell_type": "markdown",
   "metadata": {},
   "source": [
    "## Combinações Lineares"
   ]
  },
  {
   "cell_type": "markdown",
   "metadata": {},
   "source": [
    "Seja $V$ um espaço vetorial sobre $\\mathbb{R}$. Tomemos um sub-conjunto $S = \\{u_1, ..., u_n\\} \\subset V$. Indiquemos por $[S]$ o seguinte sub-conjunto de $V$ construído a partir de $S$:\n",
    "\n",
    "$$ [S] = \\{ {\\alpha}_1 u_1 + ... + {\\alpha}_n u_n | {\\alpha}_1, ..., {\\alpha}_n \\in \\mathbb{R} \\}$$\n",
    "\n",
    "É fácil ver que $[S]$ é um sub-espaço vetorial de V. De fato:\n",
    "\n",
    "1. Como $e = 0u_1 + ... + 0u_n$, então $e \\in S$\n",
    "2. Se $v = {\\alpha}_1 u_1 + ... + {\\alpha}_n u_n$ e $w = {\\beta}_1 u_1 + ... + {\\beta}_n u_n$ pertencem a $S$, então:\n",
    "\n",
    "$$ v + w = ({\\alpha}_1 + {\\beta}_1)u_1 + ... + ({\\alpha}_n + {\\beta}_n)u_n$$\n",
    "\n",
    "também é elemento de $S$\n",
    "\n",
    "3. Seja $v = {\\alpha}_1 u_1 + ... + {\\alpha}_n u_n$ então:\n",
    "\n",
    "$$ \\beta v = ({\\beta}_1 {\\alpha}_1) u_1 + ... + ( {\\beta}_n {\\alpha}_n) u_n\\ \\in [S]$$"
   ]
  },
  {
   "cell_type": "markdown",
   "metadata": {},
   "source": [
    "**Definição:** o sub-espaço $[S]$ que acabamos de construir recebe o nome de *sub-espaço gerado por S*. Cada elemento de $[S]$ é uma *combinação linear* ou combinação linear de $u_1 + ... + u_n$. Ao invés de $[S]$ também costuma-se escrever:\n",
    "\n",
    "$$ [u_1 + ... + u_n]$$\n",
    "\n",
    "Diz-se também que $u_1 + ... + u_n$ geram $[S]$, ou então que são um sistema de geradores de $[S]$"
   ]
  },
  {
   "cell_type": "markdown",
   "metadata": {},
   "source": [
    "**Propriedades:**\n",
    "\n",
    "1. $S \\subset [S]$\n",
    "2. $S_1 \\subset S_2 \\subset V \\Longrightarrow [S_1] \\subset [S_2]$\n",
    "3. $[S] = [[S]]$\n",
    "4. Se $S_1$ e $S_2$ são subconjuntos de $V$, então $ [S_1 \\cup S_2] = [S_1] + [S_2]$"
   ]
  },
  {
   "cell_type": "markdown",
   "metadata": {},
   "source": []
  }
 ],
 "metadata": {
  "interpreter": {
   "hash": "77899d00cbcedb79dedd31bfd242c182f9f7a792c4d920b141d85e18ef98d981"
  },
  "kernelspec": {
   "display_name": "Python 3.12.4 32-bit",
   "language": "python",
   "name": "python3"
  },
  "language_info": {
   "name": "python",
   "version": "3.12.4"
  },
  "orig_nbformat": 4
 },
 "nbformat": 4,
 "nbformat_minor": 2
}
