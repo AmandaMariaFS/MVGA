{
 "cells": [
  {
   "cell_type": "markdown",
   "metadata": {},
   "source": [
    "# MVGA - Matrizes, Vetores e Geometria Analítics\n",
    "\n",
    "> Algebra linear e aplicações - Carlos A. Callioli"
   ]
  },
  {
   "cell_type": "markdown",
   "metadata": {},
   "source": [
    "## Espaços Vetoriais"
   ]
  },
  {
   "cell_type": "markdown",
   "metadata": {},
   "source": [
    "Dado um conjunto $V$, não vazio e duas operações:\n",
    "\n",
    "$ + : V + V \\to V$ (Na disciplina não vamos trabalhar multiplicação de vetores, só soma)\n",
    "\n",
    "$ \\times : \\mathbb{R} \\times V \\to V$\n",
    "\n",
    "\n",
    "($V, +, \\cdot$) é um espaço vetorial sobre $\\mathbb{R}$ quando satisfaz as propriedades:\n",
    "\n",
    "Relacionado a soma de vetores:\n",
    "\n",
    "1. $u + v = v + u, \\forall u, v \\in V$\n",
    "2. $u + (v + w) = (v + v) + w, \\forall u, v, w \\in V$\n",
    "3. $\\exists e \\in V | u + e = u, \\forall u \\in V$\n",
    "4. $\\forall u \\in V, \\exists -u | u + (-u) = e$ \n",
    "\n",
    "Relacionado a multiplicação de vetores por números escalares:\n",
    "\n",
    "1. $\\alpha \\cdot (\\beta \\cdot u) = (\\alpha \\cdot \\beta) \\cdot u, \\forall \\alpha, \\beta \\in \\mathbb{R}, \\forall v \\in V$\n",
    "2. $\\alpha(u + v) = \\alpha u + \\alpha v, \\forall \\alpha \\in \\mathbb{R}, \\forall u, v \\in V$\n",
    "3. $(\\alpha + \\beta) u = \\alpha u + \\beta u, \\forall \\alpha , \\beta \\in \\mathbb{R}, \\forall u \\in V$\n",
    "4. $1 \\cdot u = u$"
   ]
  },
  {
   "cell_type": "markdown",
   "metadata": {},
   "source": [
    "### Exemplos"
   ]
  },
  {
   "cell_type": "markdown",
   "metadata": {},
   "source": [
    "1) $\\mathbb{R}$\n",
    "2) $\\mathbb{R}^2 = \\mathbb{R} \\times \\mathbb{R} = {(x,y) | x, y \\in \\mathbb{R}}$\n",
    "\n",
    "$u = (X_u, Y_u), v = (X_v, Y_v), w = (X_w, Y_w)$\n",
    "\n",
    "Testando com a soma vetorial:\n",
    "\n",
    "1) $u+v = (X_u, Y_u) + (X_v, Y_v)$\n",
    "\n",
    "    $= (X_u + X_v, Y_u + Y_v) = (X_v + X_u, Y_v + Y_u)$\n",
    "    $= (X_v, Y_v) + (X_u, Y_u) = v + u$ \n",
    "\n",
    "\n",
    "2) $u +  (v + w) = (X_u, Y_u) + ((X_u, Y_u) + (X_w, Y_w))$\n",
    "\n",
    "    $= (X_u, Y_u) + (X_v + X_w, Y_v + Y_w)$\n",
    "\n",
    "    > $=(X_v + X_w + X_u, Y_v + Y_w + Y_u)$ -Resultado da primeira afirmação\n",
    "\n",
    "    $=(u + v) + w = ((X_u, Y_u) + (X_v, Y_v)) + (X_w, Y_w)$\n",
    "\n",
    "    $=(X_u + X_v, Y_u + Y_v) + (X_w, Y_w)$\n",
    "\n",
    "    > $=(X_u + X_v + X_w, Y_u + Y_v + Y_w)$ -O resultado deu o mesmo\n",
    "\n",
    "\n",
    "3) $e = (0,0), u + e = (X_u, Y_u) + (0,0)$\n",
    "\n",
    "    $=(X_u + 0, Y_u + 0) = (X_u, Y_u) = u$\n",
    "\n",
    "4) $\\forall u = (X_u, Y_u) seja -u = (-X_u, -Y_u)$\n",
    "\n",
    "    $u + (-u) = (X_u, Y_u) + (-X_u, -Y_u) = (X_u-X_u, Y_u - Y_u) = (0,0) = e$\n",
    "\n",
    "\n",
    "\n",
    "**Testando com a multiplicação por números escalares:**\n",
    "\n",
    "1) $\\alpha(\\beta u) = \\alpha (\\beta (X_u, Y_u)) = \\alpha (\\beta X_u, \\beta Y_u)$\n",
    "\n",
    "    $(\\alpha(\\beta X_u), \\alpha(\\beta Y_u)) = ((\\alpha \\beta) X_u, (\\alpha \\beta) Y_u)$\n",
    "\n",
    "    $=(\\alpha \\beta)(X_u, Y_u) = (\\alpha \\beta) u$\n",
    "\n",
    "2) $\\alpha(u + v) = \\alpha((X_u, Y_u) + (X_v, Y_v))$\n",
    "\n",
    "    $=\\alpha(X_u + X_v, Y_u + Y_v) = (\\alpha(X_u + X_v), \\alpha(Y_u + Y_v))$\n",
    "\n",
    "    $=(\\alpha X_u + \\alpha X_v, \\alpha Y_u + \\alpha Y_v) = (\\alpha X_u, \\alpha Y_u) + (\\alpha X_v, \\alpha Y_v) = \\alpha u + \\alpha v$\n",
    "\n",
    "3) $(\\alpha + \\beta) u = (\\alpha + \\beta) (X_u, Y_u) = ((\\alpha + \\beta) X_u, (\\alpha + \\beta) Y_u)$\n",
    "\n",
    "    $(\\alpha X_u + \\beta X_u, \\alpha Y_u + \\beta Y_u) = \\alpha(X_u, Y_u) + \\beta(X_u, Y_u) = \\alpha u + \\beta u$\n",
    "\n",
    "4) $ 1 \\cdot u = 1(X_u, Y_u) = (1 X_u, 1 Y_u) = u$\n"
   ]
  },
  {
   "cell_type": "markdown",
   "metadata": {},
   "source": []
  }
 ],
 "metadata": {
  "language_info": {
   "name": "python"
  },
  "orig_nbformat": 4
 },
 "nbformat": 4,
 "nbformat_minor": 2
}
