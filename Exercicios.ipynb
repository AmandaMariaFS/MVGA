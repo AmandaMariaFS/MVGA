{
 "cells": [
  {
   "cell_type": "markdown",
   "metadata": {},
   "source": [
    "# Exercicios passados em aula"
   ]
  },
  {
   "cell_type": "markdown",
   "metadata": {},
   "source": [
    "## Espaços Vetoriais"
   ]
  },
  {
   "cell_type": "markdown",
   "metadata": {},
   "source": [
    "Considerando o plano $V = {u \\in \\mathbb{R}, u > 0}$, é possível considerar esse um espaço vetorial?"
   ]
  }
 ],
 "metadata": {
  "interpreter": {
   "hash": "22ec84920c0da99bde39b5cb88a88f860665a5fb02f88e2cf6adcfa5971ad0e1"
  },
  "kernelspec": {
   "display_name": "Python 3.12.3 64-bit",
   "language": "python",
   "name": "python3"
  },
  "language_info": {
   "name": "python",
   "version": "3.12.3"
  },
  "orig_nbformat": 4
 },
 "nbformat": 4,
 "nbformat_minor": 2
}
